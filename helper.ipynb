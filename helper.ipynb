{
 "cells": [
  {
   "cell_type": "code",
   "execution_count": 9,
   "metadata": {},
   "outputs": [
    {
     "data": {
      "text/plain": [
       "True"
      ]
     },
     "execution_count": 9,
     "metadata": {},
     "output_type": "execute_result"
    }
   ],
   "source": [
    "import cv2\n",
    "import numpy as np\n",
    "\n",
    "# Load the image\n",
    "image = cv2.imread('data/ad_jotform.png')\n",
    "\n",
    "# Create a black mask with the same dimensions as the image\n",
    "mask = np.zeros(image.shape[:2], dtype=np.uint8)\n",
    "\n",
    "# Define the region to be masked (e.g., a circle)\n",
    "x,y = 200,200\n",
    "center = (x, y)  # Coordinates of the center\n",
    "radius = 180  # Radius of the circle\n",
    "cv2.circle(mask, center, radius, 255, -1)  # Draw a filled circle on the mask\n",
    "\n",
    "# Apply the mask to the image\n",
    "white_region = np.ones_like(image) * 255  # Create a white image\n",
    "masked_image = np.where(mask[:, :, np.newaxis] == 255, white_region, 0)  # Apply the mask\n",
    "\n",
    "# Save or display the result\n",
    "cv2.imwrite('masked_image_jotform.png', masked_image)\n"
   ]
  },
  {
   "cell_type": "code",
   "execution_count": null,
   "metadata": {},
   "outputs": [],
   "source": []
  }
 ],
 "metadata": {
  "kernelspec": {
   "display_name": "dib_jotform",
   "language": "python",
   "name": "python3"
  },
  "language_info": {
   "codemirror_mode": {
    "name": "ipython",
    "version": 3
   },
   "file_extension": ".py",
   "mimetype": "text/x-python",
   "name": "python",
   "nbconvert_exporter": "python",
   "pygments_lexer": "ipython3",
   "version": "3.12.0"
  }
 },
 "nbformat": 4,
 "nbformat_minor": 2
}
